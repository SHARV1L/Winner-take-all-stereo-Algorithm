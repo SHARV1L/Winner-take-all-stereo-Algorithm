{
 "cells": [
  {
   "cell_type": "code",
   "execution_count": 1,
   "id": "b70b8851",
   "metadata": {},
   "outputs": [],
   "source": [
    "import numpy as np\n",
    "import cv2"
   ]
  },
  {
   "cell_type": "code",
   "execution_count": 15,
   "id": "9d315992",
   "metadata": {},
   "outputs": [],
   "source": [
    "# Load images\n",
    "TeddyL = cv2.imread('teddyL.pgm', cv2.IMREAD_GRAYSCALE)\n",
    "TeddyR = cv2.imread('teddyR.pgm', cv2.IMREAD_GRAYSCALE)\n",
    "ground_truth = cv2.imread('disp2.pgm', cv2.IMREAD_GRAYSCALE)"
   ]
  },
  {
   "cell_type": "code",
   "execution_count": 16,
   "id": "954c8c8f",
   "metadata": {},
   "outputs": [],
   "source": [
    "# Define parameters\n",
    "window_size = 5\n",
    "padding_size = window_size // 2\n",
    "disparity_range = 64\n",
    "\n",
    "# Compute rank-transformed images\n",
    "def rank_transform(image):\n",
    "    height, width = image.shape\n",
    "    rank = np.zeros((height, width), dtype=int)\n",
    "    for i in range(padding_size, height - padding_size):\n",
    "        for j in range(padding_size, width - padding_size):\n",
    "            patch = image[i - padding_size:i + padding_size + 1, j - padding_size:j + padding_size + 1].flatten()\n",
    "            rank[i, j] = np.argsort(patch).tolist().index(padding_size * window_size + padding_size)\n",
    "    return rank\n",
    "\n",
    "rankL = rank_transform(TeddyL)\n",
    "rankR = rank_transform(TeddyR)"
   ]
  },
  {
   "cell_type": "code",
   "execution_count": 17,
   "id": "a7459ea3",
   "metadata": {},
   "outputs": [],
   "source": [
    "# Compute disparity map\n",
    "disparity_map = np.zeros(TeddyL.shape, dtype=int)\n",
    "for i in range(padding_size, TeddyL.shape[0] - padding_size):\n",
    "    for j in range(padding_size, TeddyL.shape[1] - padding_size):\n",
    "        best_score = np.inf\n",
    "        best_disparity = 0\n",
    "        for d in range(disparity_range):\n",
    "            if j >= padding_size + d and j + padding_size + 1 - d <= TeddyL.shape[1]:\n",
    "                cost = np.sum(np.abs(rank_left[i - padding_size:i + padding_size + 1, j - padding_size:j + padding_size + 1] - rankR[i - padding_size:i + padding_size + 1, j - padding_size - d:j + padding_size + 1 - d]))\n",
    "                if cost < best_score:\n",
    "                    best_score = cost\n",
    "                    best_disparity = d\n",
    "        disparity_map[i, j] = best_disparity\n",
    "\n",
    "\n",
    "# Normalize disparity map\n",
    "disparity_map = (disparity_map*(255/disparity_range)).astype(np.uint8)\n"
   ]
  },
  {
   "cell_type": "code",
   "execution_count": 20,
   "id": "9a1ea208",
   "metadata": {},
   "outputs": [],
   "source": [
    "import matplotlib.pyplot as plt\n",
    "\n",
    "# Aggregate disparity map using 3-by-3 and 15-by-15 windows\n",
    "disparity_map_3 = cv2.blur(disparity_map, (3, 3))\n",
    "disparity_map_15 = cv2.blur(disparity_map, (15, 15))\n",
    "\n",
    "plt.imshow(disparity_map, cmap='gray')\n",
    "plt.show()\n",
    "plt.imshow(disparity_map_3, cmap='gray')\n",
    "plt.show()\n",
    "plt.imshow(disparity_map_15, cmap='gray')\n",
    "plt.show()\n",
    "\n",
    "# Compute error rate\n",
    "ground_truth = np.round(ground_truth / 4).astype(int)\n",
    "error_pixels = np.abs(disparity_map - ground_truth) > 1\n",
    "error_rate = np.mean(error_pixels.astype(float))\n",
    "\n",
    "print(\"Error rate:\", error_rate*100)\n"
   ]
  }
 ],
 "metadata": {
  "kernelspec": {
   "display_name": "Python 3 (ipykernel)",
   "language": "python",
   "name": "python3"
  },
  "language_info": {
   "codemirror_mode": {
    "name": "ipython",
    "version": 3
   },
   "file_extension": ".py",
   "mimetype": "text/x-python",
   "name": "python",
   "nbconvert_exporter": "python",
   "pygments_lexer": "ipython3",
   "version": "3.10.9"
  }
 },
 "nbformat": 4,
 "nbformat_minor": 5
}
